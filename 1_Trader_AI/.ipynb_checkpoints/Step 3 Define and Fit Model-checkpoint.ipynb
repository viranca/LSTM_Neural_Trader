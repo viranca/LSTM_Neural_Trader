{
 "cells": [
  {
   "cell_type": "code",
   "execution_count": 183,
   "metadata": {},
   "outputs": [],
   "source": [
    "import numpy as np\n",
    "import pandas as pd\n",
    "import seaborn as sns\n",
    "from matplotlib import pyplot\n",
    "from keras import models\n",
    "from keras import layers\n",
    "from keras import regularizers\n",
    "from keras.layers import Dense,LSTM\n",
    "from keras.models import Sequential\n",
    "\n",
    "from math import sqrt\n",
    "from numpy import concatenate\n",
    "from matplotlib import pyplot\n",
    "from pandas import read_csv\n",
    "from pandas import DataFrame\n",
    "from pandas import concat\n",
    "from sklearn.preprocessing import MinMaxScaler\n",
    "from sklearn.preprocessing import LabelEncoder\n",
    "from sklearn.metrics import mean_squared_error\n",
    "from keras.models import Sequential\n",
    "from keras.layers import Dense\n",
    "from keras.layers import LSTM\n",
    "\n",
    "%matplotlib inline"
   ]
  },
  {
   "cell_type": "code",
   "execution_count": 184,
   "metadata": {},
   "outputs": [
    {
     "data": {
      "text/plain": [
       "array([[  1.2138  ,   1.2171  ,   1.2105  , ..., 140.087128, 140.087128,\n",
       "          1.2133  ],\n",
       "       [  1.2148  ,   1.2158  ,   1.2084  , ..., 138.399063, 138.399063,\n",
       "          1.2043  ],\n",
       "       [  1.2051  ,   1.2111  ,   1.1993  , ..., 141.380417, 141.380417,\n",
       "          1.201   ],\n",
       "       ...,\n",
       "       [  1.15186 ,   1.15989 ,   1.15175 , ..., 527.580017, 527.580017,\n",
       "          1.15733 ],\n",
       "       [  1.15861 ,   1.16101 ,   1.15339 , ..., 523.869995, 523.869995,\n",
       "          1.15    ],\n",
       "       [  1.15364 ,   1.16059 ,   1.15364 , ..., 525.169983, 525.169983,\n",
       "          1.14522 ]])"
      ]
     },
     "execution_count": 184,
     "metadata": {},
     "output_type": "execute_result"
    }
   ],
   "source": [
    "dfm_series = pd.read_csv('mergeddataseries.csv')\n",
    "dfm_series = dfm_series.drop(['Date', 'var1(t-4)', 'var1(t-3)', 'var1(t-2)', 'var1(t-1)'], axis=1)\n",
    "dfm_series.values"
   ]
  },
  {
   "cell_type": "code",
   "execution_count": 185,
   "metadata": {},
   "outputs": [
    {
     "name": "stdout",
     "output_type": "stream",
     "text": [
      "4983\n",
      "1246\n",
      "(4983, 5, 21) (4983,) (1246, 5, 21) (1246,)\n"
     ]
    }
   ],
   "source": [
    "#create train and test split\n",
    "n_days = 5\n",
    "n_features = 21\n",
    "n_samples = len(dfm_series)\n",
    "n_train_samples = int(n_samples * 0.8)\n",
    "train = dfm_series.values[:n_train_samples, :]\n",
    "test = dfm_series.values[n_train_samples:, :]\n",
    "#split inputs and output\n",
    "train_X, train_Y = train[:, :-1], train[:, -1]\n",
    "test_X, test_Y = test[:, :-1], test[:,-1]\n",
    "print(len(train))\n",
    "print(len(test))\n",
    "\n",
    "train_X = train_X.reshape((len(train), n_days, n_features))\n",
    "test_X = test_X.reshape((len(test), n_days, n_features))\n",
    "print(train_X.shape, train_Y.shape, test_X.shape, test_Y.shape)\n",
    "\n"
   ]
  },
  {
   "cell_type": "code",
   "execution_count": 186,
   "metadata": {},
   "outputs": [
    {
     "name": "stdout",
     "output_type": "stream",
     "text": [
      "Train on 4983 samples, validate on 1246 samples\n",
      "Epoch 1/50\n",
      " - 3s - loss: 0.6907 - val_loss: 0.6701\n",
      "Epoch 2/50\n",
      " - 0s - loss: 0.3573 - val_loss: 0.1129\n",
      "Epoch 3/50\n",
      " - 0s - loss: 0.1355 - val_loss: 0.2024\n",
      "Epoch 4/50\n",
      " - 0s - loss: 0.1316 - val_loss: 0.1821\n",
      "Epoch 5/50\n",
      " - 0s - loss: 0.1135 - val_loss: 0.1812\n",
      "Epoch 6/50\n",
      " - 0s - loss: 0.1188 - val_loss: 0.1824\n",
      "Epoch 7/50\n",
      " - 0s - loss: 0.1126 - val_loss: 0.1796\n",
      "Epoch 8/50\n",
      " - 0s - loss: 0.1079 - val_loss: 0.1803\n",
      "Epoch 9/50\n",
      " - 0s - loss: 0.1267 - val_loss: 0.2137\n",
      "Epoch 10/50\n",
      " - 0s - loss: 0.1030 - val_loss: 0.1850\n",
      "Epoch 11/50\n",
      " - 0s - loss: 0.1014 - val_loss: 0.1848\n",
      "Epoch 12/50\n",
      " - 0s - loss: 0.0993 - val_loss: 0.1862\n",
      "Epoch 13/50\n",
      " - 0s - loss: 0.0982 - val_loss: 0.1852\n",
      "Epoch 14/50\n",
      " - 0s - loss: 0.0957 - val_loss: 0.1859\n",
      "Epoch 15/50\n",
      " - 0s - loss: 0.1193 - val_loss: 0.1811\n",
      "Epoch 16/50\n",
      " - 0s - loss: 0.1170 - val_loss: 0.1841\n",
      "Epoch 17/50\n",
      " - 0s - loss: 0.1119 - val_loss: 0.1850\n",
      "Epoch 18/50\n",
      " - 0s - loss: 0.1111 - val_loss: 0.1855\n",
      "Epoch 19/50\n",
      " - 0s - loss: 0.1065 - val_loss: 0.1860\n",
      "Epoch 20/50\n",
      " - 0s - loss: 0.1083 - val_loss: 0.1861\n",
      "Epoch 21/50\n",
      " - 0s - loss: 0.1051 - val_loss: 0.1869\n",
      "Epoch 22/50\n",
      " - 0s - loss: 0.1093 - val_loss: 0.1854\n",
      "Epoch 23/50\n",
      " - 0s - loss: 0.1071 - val_loss: 0.1853\n",
      "Epoch 24/50\n",
      " - 0s - loss: 0.1037 - val_loss: 0.1850\n",
      "Epoch 25/50\n",
      " - 0s - loss: 0.1031 - val_loss: 0.1863\n",
      "Epoch 26/50\n",
      " - 0s - loss: 0.1007 - val_loss: 0.1856\n",
      "Epoch 27/50\n",
      " - 0s - loss: 0.1064 - val_loss: 0.1858\n",
      "Epoch 28/50\n",
      " - 0s - loss: 0.1014 - val_loss: 0.1848\n",
      "Epoch 29/50\n",
      " - 0s - loss: 0.0984 - val_loss: 0.1851\n",
      "Epoch 30/50\n",
      " - 0s - loss: 0.0998 - val_loss: 0.1832\n",
      "Epoch 31/50\n",
      " - 0s - loss: 0.0995 - val_loss: 0.1844\n",
      "Epoch 32/50\n",
      " - 0s - loss: 0.0957 - val_loss: 0.1839\n",
      "Epoch 33/50\n",
      " - 0s - loss: 0.1035 - val_loss: 0.1860\n",
      "Epoch 34/50\n",
      " - 0s - loss: 0.0997 - val_loss: 0.1849\n",
      "Epoch 35/50\n",
      " - 0s - loss: 0.1266 - val_loss: 0.1824\n",
      "Epoch 36/50\n",
      " - 0s - loss: 0.1127 - val_loss: 0.1836\n",
      "Epoch 37/50\n",
      " - 0s - loss: 0.0992 - val_loss: 0.1839\n",
      "Epoch 38/50\n",
      " - 0s - loss: 0.0999 - val_loss: 0.1857\n",
      "Epoch 39/50\n",
      " - 0s - loss: 0.1027 - val_loss: 0.1856\n",
      "Epoch 40/50\n",
      " - 0s - loss: 0.1007 - val_loss: 0.1833\n",
      "Epoch 41/50\n",
      " - 0s - loss: 0.0948 - val_loss: 0.1860\n",
      "Epoch 42/50\n",
      " - 0s - loss: 0.0949 - val_loss: 0.1848\n",
      "Epoch 43/50\n",
      " - 0s - loss: 0.1144 - val_loss: 0.2000\n",
      "Epoch 44/50\n",
      " - 0s - loss: 0.0942 - val_loss: 0.1852\n",
      "Epoch 45/50\n",
      " - 0s - loss: 0.0933 - val_loss: 0.1866\n",
      "Epoch 46/50\n",
      " - 0s - loss: 0.0921 - val_loss: 0.1850\n",
      "Epoch 47/50\n",
      " - 0s - loss: 0.0929 - val_loss: 0.1863\n",
      "Epoch 48/50\n",
      " - 0s - loss: 0.0914 - val_loss: 0.1868\n",
      "Epoch 49/50\n",
      " - 0s - loss: 0.0931 - val_loss: 0.1858\n",
      "Epoch 50/50\n",
      " - 0s - loss: 0.0962 - val_loss: 0.1855\n"
     ]
    },
    {
     "data": {
      "image/png": "[encoded data removed]",
      "text/plain": [
       "<Figure size 432x288 with 1 Axes>"
      ]
     },
     "metadata": {},
     "output_type": "display_data"
    }
   ],
   "source": [
    "#define model\n",
    "model = Sequential()\n",
    "model.add(LSTM(50, input_shape=(train_X.shape[1], train_X.shape[2])))\n",
    "model.add(Dense(1))\n",
    "model.compile(loss='mae', optimizer='adam')\n",
    "\n",
    "history = model.fit(train_X, train_Y, epochs=50, batch_size=72, validation_data=(test_X, test_Y), verbose=2, shuffle=False)\n",
    "\n",
    "\n",
    "# plot history\n",
    "pyplot.plot(history.history['loss'], label='train')\n",
    "pyplot.plot(history.history['val_loss'], label='test')\n",
    "pyplot.legend()\n",
    "pyplot.show()\n",
    "\n",
    "\n",
    "\n",
    "\n",
    "\n"
   ]
  },
  {
   "cell_type": "code",
   "execution_count": 187,
   "metadata": {},
   "outputs": [
    {
     "name": "stdout",
     "output_type": "stream",
     "text": [
      "Test RMSE: 0.206\n"
     ]
    }
   ],
   "source": [
    "#Validate with test set\n",
    "yhat = model.predict(test_X)\n",
    "test_X = test_X.reshape((test_X.shape[0], n_days*n_features))\n",
    "inv_yhat = yhat\n",
    "test_Y = test_Y.reshape((len(test_Y), 1))\n",
    "inv_y = concatenate((test_Y, test_X[:, -1:]), axis=1)\n",
    "\n",
    "inv_y = inv_y[:,0]\n",
    "# calculate RMSE\n",
    "rmse = sqrt(mean_squared_error(inv_y, inv_yhat))\n",
    "print('Test RMSE: %.3f' % rmse)\n"
   ]
  },
  {
   "cell_type": "code",
   "execution_count": 196,
   "metadata": {},
   "outputs": [
    {
     "data": {
      "image/png": "[encoded data removed]",
      "text/plain": [
       "<Figure size 432x288 with 1 Axes>"
      ]
     },
     "metadata": {},
     "output_type": "display_data"
    }
   ],
   "source": [
    "pyplot.plot(dfm_series['var2(t)'], label='actual')\n",
    "pyplot.plot(inv_y, label='prediction')\n",
    "pyplot.plot(inv_yhat, label='?')\n",
    "pyplot.plot(yhat, label='??')\n",
    "pyplot.legend()\n",
    "pyplot.show()"
   ]
  },
  {
   "cell_type": "code",
   "execution_count": null,
   "metadata": {},
   "outputs": [],
   "source": []
  }
 ],
 "metadata": {
  "kernelspec": {
   "display_name": "Python 3",
   "language": "python",
   "name": "python3"
  },
  "language_info": {
   "codemirror_mode": {
    "name": "ipython",
    "version": 3
   },
   "file_extension": ".py",
   "mimetype": "text/x-python",
   "name": "python",
   "nbconvert_exporter": "python",
   "pygments_lexer": "ipython3",
   "version": "3.5.5"
  }
 },
 "nbformat": 4,
 "nbformat_minor": 2
}
