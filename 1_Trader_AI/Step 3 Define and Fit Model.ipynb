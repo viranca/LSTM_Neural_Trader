{
 "cells": [
  {
   "cell_type": "code",
   "execution_count": 222,
   "metadata": {},
   "outputs": [],
   "source": [
    "import numpy as np\n",
    "import pandas as pd\n",
    "import seaborn as sns\n",
    "from matplotlib import pyplot\n",
    "from keras import models\n",
    "from keras import layers\n",
    "from keras import regularizers\n",
    "from keras.layers import Dense,LSTM\n",
    "from keras.models import Sequential\n",
    "\n",
    "from math import sqrt\n",
    "from numpy import concatenate\n",
    "from matplotlib import pyplot\n",
    "from pandas import read_csv\n",
    "from pandas import DataFrame\n",
    "from pandas import concat\n",
    "from sklearn.preprocessing import MinMaxScaler\n",
    "from sklearn.preprocessing import LabelEncoder\n",
    "from sklearn.metrics import mean_squared_error\n",
    "from keras.models import Sequential\n",
    "from keras.layers import Dense\n",
    "from keras.layers import LSTM\n",
    "\n",
    "%matplotlib inline"
   ]
  },
  {
   "cell_type": "code",
   "execution_count": 223,
   "metadata": {},
   "outputs": [
    {
     "data": {
      "text/plain": [
       "array([[  1.2138  ,   1.2171  ,   1.2105  , ..., 140.087128, 140.087128,\n",
       "          1.2133  ],\n",
       "       [  1.2148  ,   1.2158  ,   1.2084  , ..., 138.399063, 138.399063,\n",
       "          1.2043  ],\n",
       "       [  1.2051  ,   1.2111  ,   1.1993  , ..., 141.380417, 141.380417,\n",
       "          1.201   ],\n",
       "       ...,\n",
       "       [  1.15186 ,   1.15989 ,   1.15175 , ..., 527.580017, 527.580017,\n",
       "          1.15733 ],\n",
       "       [  1.15861 ,   1.16101 ,   1.15339 , ..., 523.869995, 523.869995,\n",
       "          1.15    ],\n",
       "       [  1.15364 ,   1.16059 ,   1.15364 , ..., 525.169983, 525.169983,\n",
       "          1.14522 ]])"
      ]
     },
     "execution_count": 223,
     "metadata": {},
     "output_type": "execute_result"
    }
   ],
   "source": [
    "dfm_series = pd.read_csv('mergeddataseries.csv')\n",
    "dfm_series = dfm_series.drop(['Date', 'var1(t-4)', 'var1(t-3)', 'var1(t-2)', 'var1(t-1)'], axis=1)\n",
    "dfm_series.values"
   ]
  },
  {
   "cell_type": "code",
   "execution_count": 224,
   "metadata": {},
   "outputs": [
    {
     "name": "stdout",
     "output_type": "stream",
     "text": [
      "4983\n",
      "1246\n",
      "(4983, 5, 21) (4983,) (1246, 5, 21) (1246,)\n"
     ]
    }
   ],
   "source": [
    "#create train and test split\n",
    "n_days = 5\n",
    "n_features = 21\n",
    "n_samples = len(dfm_series)\n",
    "n_train_samples = int(n_samples * 0.8)\n",
    "train = dfm_series.values[:n_train_samples, :]\n",
    "test = dfm_series.values[n_train_samples:, :]\n",
    "#split inputs and output\n",
    "train_X, train_Y = train[:, :-1], train[:, -1]\n",
    "test_X, test_Y = test[:, :-1], test[:,-1]\n",
    "print(len(train))\n",
    "print(len(test))\n",
    "n_validate_sample=len(test)\n",
    "\n",
    "train_X = train_X.reshape((len(train), n_days, n_features))\n",
    "test_X = test_X.reshape((len(test), n_days, n_features))\n",
    "print(train_X.shape, train_Y.shape, test_X.shape, test_Y.shape)\n",
    "\n"
   ]
  },
  {
   "cell_type": "code",
   "execution_count": 225,
   "metadata": {},
   "outputs": [
    {
     "name": "stdout",
     "output_type": "stream",
     "text": [
      "Train on 4983 samples, validate on 1246 samples\n",
      "Epoch 1/64\n",
      " - 3s - loss: 0.4462 - val_loss: 0.1694\n",
      "Epoch 2/64\n",
      " - 1s - loss: 0.1322 - val_loss: 0.1215\n",
      "Epoch 3/64\n",
      " - 1s - loss: 0.1382 - val_loss: 0.1190\n",
      "Epoch 4/64\n",
      " - 1s - loss: 0.1465 - val_loss: 0.1172\n",
      "Epoch 5/64\n",
      " - 1s - loss: 0.1342 - val_loss: 0.1211\n",
      "Epoch 6/64\n",
      " - 1s - loss: 0.1415 - val_loss: 0.1173\n",
      "Epoch 7/64\n",
      " - 1s - loss: 0.1420 - val_loss: 0.1201\n",
      "Epoch 8/64\n",
      " - 1s - loss: 0.1242 - val_loss: 0.1209\n",
      "Epoch 9/64\n",
      " - 1s - loss: 0.1315 - val_loss: 0.1172\n",
      "Epoch 10/64\n",
      " - 1s - loss: 0.1252 - val_loss: 0.1209\n",
      "Epoch 11/64\n",
      " - 1s - loss: 0.1254 - val_loss: 0.1147\n",
      "Epoch 12/64\n",
      " - 1s - loss: 0.1373 - val_loss: 0.1208\n",
      "Epoch 13/64\n",
      " - 1s - loss: 0.1273 - val_loss: 0.1171\n",
      "Epoch 14/64\n",
      " - 1s - loss: 0.1201 - val_loss: 0.1205\n",
      "Epoch 15/64\n",
      " - 1s - loss: 0.1170 - val_loss: 0.1174\n",
      "Epoch 16/64\n",
      " - 1s - loss: 0.1226 - val_loss: 0.1101\n",
      "Epoch 17/64\n",
      " - 1s - loss: 0.1109 - val_loss: 0.1209\n",
      "Epoch 18/64\n",
      " - 1s - loss: 0.1066 - val_loss: 0.1180\n",
      "Epoch 19/64\n",
      " - 1s - loss: 0.1218 - val_loss: 0.1194\n",
      "Epoch 20/64\n",
      " - 1s - loss: 0.1214 - val_loss: 0.1175\n",
      "Epoch 21/64\n",
      " - 1s - loss: 0.1153 - val_loss: 0.1200\n",
      "Epoch 22/64\n",
      " - 1s - loss: 0.1169 - val_loss: 0.1183\n",
      "Epoch 23/64\n",
      " - 1s - loss: 0.1180 - val_loss: 0.1201\n",
      "Epoch 24/64\n",
      " - 1s - loss: 0.1193 - val_loss: 0.1181\n",
      "Epoch 25/64\n",
      " - 1s - loss: 0.1197 - val_loss: 0.1201\n",
      "Epoch 26/64\n",
      " - 1s - loss: 0.1195 - val_loss: 0.1170\n",
      "Epoch 27/64\n",
      " - 1s - loss: 0.1263 - val_loss: 0.1197\n",
      "Epoch 28/64\n",
      " - 1s - loss: 0.1169 - val_loss: 0.1173\n",
      "Epoch 29/64\n",
      " - 1s - loss: 0.1216 - val_loss: 0.1193\n",
      "Epoch 30/64\n",
      " - 1s - loss: 0.1145 - val_loss: 0.1171\n",
      "Epoch 31/64\n",
      " - 1s - loss: 0.1151 - val_loss: 0.1195\n",
      "Epoch 32/64\n",
      " - 1s - loss: 0.1154 - val_loss: 0.1162\n",
      "Epoch 33/64\n",
      " - 1s - loss: 0.1174 - val_loss: 0.1197\n",
      "Epoch 34/64\n",
      " - 1s - loss: 0.1229 - val_loss: 0.0962\n",
      "Epoch 35/64\n",
      " - 1s - loss: 0.1205 - val_loss: 0.1064\n",
      "Epoch 36/64\n",
      " - 1s - loss: 0.1224 - val_loss: 0.1209\n",
      "Epoch 37/64\n",
      " - 1s - loss: 0.1296 - val_loss: 0.1198\n",
      "Epoch 38/64\n",
      " - 1s - loss: 0.1323 - val_loss: 0.0923\n",
      "Epoch 39/64\n",
      " - 1s - loss: 0.1325 - val_loss: 0.1168\n",
      "Epoch 40/64\n",
      " - 1s - loss: 0.1207 - val_loss: 0.1199\n",
      "Epoch 41/64\n",
      " - 1s - loss: 0.1261 - val_loss: 0.1198\n",
      "Epoch 42/64\n",
      " - 1s - loss: 0.1206 - val_loss: 0.1199\n",
      "Epoch 43/64\n",
      " - 1s - loss: 0.1227 - val_loss: 0.1196\n",
      "Epoch 44/64\n",
      " - 1s - loss: 0.1167 - val_loss: 0.1168\n",
      "Epoch 45/64\n",
      " - 1s - loss: 0.1190 - val_loss: 0.1213\n",
      "Epoch 46/64\n",
      " - 1s - loss: 0.1138 - val_loss: 0.1185\n",
      "Epoch 47/64\n",
      " - 1s - loss: 0.1160 - val_loss: 0.1159\n",
      "Epoch 48/64\n",
      " - 1s - loss: 0.1150 - val_loss: 0.1204\n",
      "Epoch 49/64\n",
      " - 1s - loss: 0.1214 - val_loss: 0.1198\n",
      "Epoch 50/64\n",
      " - 1s - loss: 0.1163 - val_loss: 0.1199\n",
      "Epoch 51/64\n",
      " - 1s - loss: 0.1160 - val_loss: 0.1206\n",
      "Epoch 52/64\n",
      " - 1s - loss: 0.1107 - val_loss: 0.1204\n",
      "Epoch 53/64\n",
      " - 1s - loss: 0.1249 - val_loss: 0.1200\n",
      "Epoch 54/64\n",
      " - 1s - loss: 0.1239 - val_loss: 0.1202\n",
      "Epoch 55/64\n",
      " - 1s - loss: 0.1157 - val_loss: 0.1210\n",
      "Epoch 56/64\n",
      " - 1s - loss: 0.1112 - val_loss: 0.1197\n",
      "Epoch 57/64\n",
      " - 1s - loss: 0.1250 - val_loss: 0.1200\n",
      "Epoch 58/64\n",
      " - 1s - loss: 0.1305 - val_loss: 0.1203\n",
      "Epoch 59/64\n",
      " - 1s - loss: 0.1305 - val_loss: 0.1197\n",
      "Epoch 60/64\n",
      " - 1s - loss: 0.1388 - val_loss: 0.1198\n",
      "Epoch 61/64\n",
      " - 1s - loss: 0.1371 - val_loss: 0.1199\n",
      "Epoch 62/64\n",
      " - 1s - loss: 0.1243 - val_loss: 0.1206\n",
      "Epoch 63/64\n",
      " - 1s - loss: 0.1401 - val_loss: 0.1194\n",
      "Epoch 64/64\n",
      " - 1s - loss: 0.1276 - val_loss: 0.1184\n"
     ]
    },
    {
     "data": {
      "image/png": "[encoded data removed]",
      "text/plain": [
       "<Figure size 432x288 with 1 Axes>"
      ]
     },
     "metadata": {},
     "output_type": "display_data"
    }
   ],
   "source": [
    "#define model\n",
    "model = Sequential()\n",
    "model.add(LSTM(128, input_shape=(train_X.shape[1], train_X.shape[2])))\n",
    "model.add(Dense(1))\n",
    "model.compile(loss='mae', optimizer='adam')\n",
    "\n",
    "history = model.fit(train_X, train_Y, epochs=64, batch_size=64, validation_data=(test_X, test_Y), verbose=2, shuffle=False)\n",
    "\n",
    "\n",
    "# plot history\n",
    "pyplot.plot(history.history['loss'], label='train')\n",
    "pyplot.plot(history.history['val_loss'], label='test')\n",
    "pyplot.legend()\n",
    "pyplot.show()\n",
    "\n",
    "\n",
    "\n",
    "\n",
    "\n"
   ]
  },
  {
   "cell_type": "code",
   "execution_count": 226,
   "metadata": {},
   "outputs": [
    {
     "name": "stdout",
     "output_type": "stream",
     "text": [
      "Test RMSE: 0.129\n",
      "[[1.2613963]\n",
      " [1.2613963]\n",
      " [1.2613963]\n",
      " ...\n",
      " [1.2613963]\n",
      " [1.2613963]\n",
      " [1.2613963]]\n"
     ]
    }
   ],
   "source": [
    "#Validate with test set\n",
    "yhat = model.predict(test_X)\n",
    "test_X = test_X.reshape((test_X.shape[0], n_days*n_features))\n",
    "inv_yhat = yhat\n",
    "test_Y = test_Y.reshape((len(test_Y), 1))\n",
    "inv_y = concatenate((test_Y, test_X[:, -1:]), axis=1)\n",
    "\n",
    "inv_y = inv_y[:,0]\n",
    "# calculate RMSE\n",
    "rmse = sqrt(mean_squared_error(inv_y, inv_yhat))\n",
    "print('Test RMSE: %.3f' % rmse)\n",
    "print(yhat)"
   ]
  },
  {
   "cell_type": "code",
   "execution_count": 228,
   "metadata": {},
   "outputs": [
    {
     "data": {
      "image/png": "[encoded data removed]",
      "text/plain": [
       "<Figure size 432x288 with 1 Axes>"
      ]
     },
     "metadata": {},
     "output_type": "display_data"
    }
   ],
   "source": [
    "\n",
    "pyplot.plot(dfm_series['var2(t)'][n_train_samples:], label='actual')\n",
    "#pyplot.plot(n_validate_samples, inv_y, label='prediction')\n",
    "#pyplot.plot(inv_yhat, label='?')\n",
    "pyplot.plot(yhat, label='??')\n",
    "pyplot.legend()\n",
    "pyplot.show()\n"
   ]
  },
  {
   "cell_type": "code",
   "execution_count": null,
   "metadata": {},
   "outputs": [],
   "source": []
  }
 ],
 "metadata": {
  "kernelspec": {
   "display_name": "Python 3",
   "language": "python",
   "name": "python3"
  },
  "language_info": {
   "codemirror_mode": {
    "name": "ipython",
    "version": 3
   },
   "file_extension": ".py",
   "mimetype": "text/x-python",
   "name": "python",
   "nbconvert_exporter": "python",
   "pygments_lexer": "ipython3",
   "version": "3.5.5"
  }
 },
 "nbformat": 4,
 "nbformat_minor": 2
}
