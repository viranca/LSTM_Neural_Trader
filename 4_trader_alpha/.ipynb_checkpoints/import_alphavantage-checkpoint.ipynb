{
 "cells": [
  {
   "cell_type": "code",
   "execution_count": 59,
   "metadata": {},
   "outputs": [],
   "source": [
    "from alpha_vantage.timeseries import TimeSeries\n",
    "from alpha_vantage.foreignexchange import ForeignExchange\n",
    "\n",
    "from pprint import pprint\n",
    "import matplotlib.pyplot as plt\n",
    "import pandas as pd\n",
    "\n"
   ]
  },
  {
   "cell_type": "code",
   "execution_count": 60,
   "metadata": {},
   "outputs": [],
   "source": [
    "list_of_equities = ['aapl', 'tsla', 'googl']\n",
    "list_of_forex = ['EUR', 'GBP', 'JPY', 'AUD', 'NZD', 'CNY']\n"
   ]
  },
  {
   "cell_type": "code",
   "execution_count": 61,
   "metadata": {
    "scrolled": false
   },
   "outputs": [],
   "source": [
    "for equity in list_of_equities:\n",
    "    ts = TimeSeries(key='BHY9P0T4QTOYVHPN',output_format='pandas')\n",
    "    data, meta_data = ts.get_daily_adjusted(symbol=equity, outputsize='full')\n",
    "    data = data.drop([\"1. open\", \"2. high\", \"3. low\", \"4. close\", \"7. dividend amount\", \"8. split coefficient\"], axis=1)\n",
    "    data = data.rename(index=str, columns={\"5. adjusted close\": equity+\"close\", \"6. volume\": equity+\"volume\"})\n",
    "    equity = equity+'.csv'\n",
    "    data.to_csv(equity)"
   ]
  },
  {
   "cell_type": "code",
   "execution_count": 63,
   "metadata": {},
   "outputs": [],
   "source": [
    "for forex in list_of_forex:\n",
    "    fx = ForeignExchange(key='BHY9P0T4QTOYVHPN',output_format='pandas')\n",
    "    dataa, meta_data = fx.get_currency_exchange_daily(from_symbol='USD', to_symbol= forex, outputsize='full')\n",
    "    dataa = dataa.drop([\"1. open\", \"2. high\", \"3. low\"], axis=1)\n",
    "    dataa = dataa.rename(index=str, columns={\"4. close\":forex + \"close\"})\n",
    "    forex = forex +'.csv'\n",
    "    dataa.to_csv(forex)"
   ]
  },
  {
   "cell_type": "code",
   "execution_count": null,
   "metadata": {
    "scrolled": true
   },
   "outputs": [],
   "source": [
    "pprint(data)"
   ]
  },
  {
   "cell_type": "code",
   "execution_count": null,
   "metadata": {
    "scrolled": false
   },
   "outputs": [],
   "source": []
  },
  {
   "cell_type": "code",
   "execution_count": null,
   "metadata": {},
   "outputs": [],
   "source": []
  },
  {
   "cell_type": "code",
   "execution_count": null,
   "metadata": {
    "scrolled": true
   },
   "outputs": [],
   "source": []
  },
  {
   "cell_type": "code",
   "execution_count": null,
   "metadata": {},
   "outputs": [],
   "source": []
  },
  {
   "cell_type": "code",
   "execution_count": null,
   "metadata": {},
   "outputs": [],
   "source": []
  }
 ],
 "metadata": {
  "kernelspec": {
   "display_name": "Python 3",
   "language": "python",
   "name": "python3"
  },
  "language_info": {
   "codemirror_mode": {
    "name": "ipython",
    "version": 3
   },
   "file_extension": ".py",
   "mimetype": "text/x-python",
   "name": "python",
   "nbconvert_exporter": "python",
   "pygments_lexer": "ipython3",
   "version": "3.6.7"
  }
 },
 "nbformat": 4,
 "nbformat_minor": 2
}
