{
 "cells": [
  {
   "cell_type": "code",
   "execution_count": 1,
   "metadata": {},
   "outputs": [],
   "source": [
    "from alpha_vantage.timeseries import TimeSeries\n",
    "from alpha_vantage.foreignexchange import ForeignExchange\n",
    "\n",
    "from pprint import pprint\n",
    "import matplotlib.pyplot as plt\n",
    "import pandas as pd\n",
    "\n"
   ]
  },
  {
   "cell_type": "code",
   "execution_count": 2,
   "metadata": {},
   "outputs": [],
   "source": [
    "list_of_equities = ['aapl', 'tsla', 'googl']\n",
    "list_of_forex = ['EUR', 'GBP', 'JPY', 'AUD', 'NZD', 'CNY']\n"
   ]
  },
  {
   "cell_type": "code",
   "execution_count": 3,
   "metadata": {
    "scrolled": false
   },
   "outputs": [],
   "source": [
    "for equity in list_of_equities:\n",
    "    ts = TimeSeries(key='BHY9P0T4QTOYVHPN',output_format='pandas')\n",
    "    data, meta_data = ts.get_daily_adjusted(symbol=equity, outputsize='full')\n",
    "    data = data.drop([\"1. open\", \"2. high\", \"3. low\", \"4. close\", \"7. dividend amount\", \"8. split coefficient\"], axis=1)\n",
    "    data = data.rename(index=str, columns={\"5. adjusted close\": equity+\"close\", \"6. volume\": equity+\"volume\"})\n",
    "    equity = equity+'.csv'\n",
    "    data.to_csv(equity)"
   ]
  },
  {
   "cell_type": "code",
   "execution_count": 4,
   "metadata": {},
   "outputs": [
    {
     "ename": "KeyError",
     "evalue": "'Time Series FX (Daily)'",
     "output_type": "error",
     "traceback": [
      "\u001b[1;31m---------------------------------------------------------------------------\u001b[0m",
      "\u001b[1;31mKeyError\u001b[0m                                  Traceback (most recent call last)",
      "\u001b[1;32m<ipython-input-4-9152ffd565ba>\u001b[0m in \u001b[0;36m<module>\u001b[1;34m\u001b[0m\n\u001b[0;32m      1\u001b[0m \u001b[1;32mfor\u001b[0m \u001b[0mforex\u001b[0m \u001b[1;32min\u001b[0m \u001b[0mlist_of_forex\u001b[0m\u001b[1;33m:\u001b[0m\u001b[1;33m\u001b[0m\u001b[1;33m\u001b[0m\u001b[0m\n\u001b[0;32m      2\u001b[0m     \u001b[0mfx\u001b[0m \u001b[1;33m=\u001b[0m \u001b[0mForeignExchange\u001b[0m\u001b[1;33m(\u001b[0m\u001b[0mkey\u001b[0m\u001b[1;33m=\u001b[0m\u001b[1;34m'BHY9P0T4QTOYVHPN'\u001b[0m\u001b[1;33m,\u001b[0m\u001b[0moutput_format\u001b[0m\u001b[1;33m=\u001b[0m\u001b[1;34m'pandas'\u001b[0m\u001b[1;33m)\u001b[0m\u001b[1;33m\u001b[0m\u001b[1;33m\u001b[0m\u001b[0m\n\u001b[1;32m----> 3\u001b[1;33m     \u001b[0mdataa\u001b[0m\u001b[1;33m,\u001b[0m \u001b[0mmeta_data\u001b[0m \u001b[1;33m=\u001b[0m \u001b[0mfx\u001b[0m\u001b[1;33m.\u001b[0m\u001b[0mget_currency_exchange_daily\u001b[0m\u001b[1;33m(\u001b[0m\u001b[0mfrom_symbol\u001b[0m\u001b[1;33m=\u001b[0m\u001b[1;34m'USD'\u001b[0m\u001b[1;33m,\u001b[0m \u001b[0mto_symbol\u001b[0m\u001b[1;33m=\u001b[0m \u001b[0mforex\u001b[0m\u001b[1;33m,\u001b[0m \u001b[0moutputsize\u001b[0m\u001b[1;33m=\u001b[0m\u001b[1;34m'full'\u001b[0m\u001b[1;33m)\u001b[0m\u001b[1;33m\u001b[0m\u001b[1;33m\u001b[0m\u001b[0m\n\u001b[0m\u001b[0;32m      4\u001b[0m     \u001b[0mdataa\u001b[0m \u001b[1;33m=\u001b[0m \u001b[0mdataa\u001b[0m\u001b[1;33m.\u001b[0m\u001b[0mdrop\u001b[0m\u001b[1;33m(\u001b[0m\u001b[1;33m[\u001b[0m\u001b[1;34m\"1. open\"\u001b[0m\u001b[1;33m,\u001b[0m \u001b[1;34m\"2. high\"\u001b[0m\u001b[1;33m,\u001b[0m \u001b[1;34m\"3. low\"\u001b[0m\u001b[1;33m]\u001b[0m\u001b[1;33m,\u001b[0m \u001b[0maxis\u001b[0m\u001b[1;33m=\u001b[0m\u001b[1;36m1\u001b[0m\u001b[1;33m)\u001b[0m\u001b[1;33m\u001b[0m\u001b[1;33m\u001b[0m\u001b[0m\n\u001b[0;32m      5\u001b[0m     \u001b[0mdataa\u001b[0m \u001b[1;33m=\u001b[0m \u001b[0mdataa\u001b[0m\u001b[1;33m.\u001b[0m\u001b[0mrename\u001b[0m\u001b[1;33m(\u001b[0m\u001b[0mindex\u001b[0m\u001b[1;33m=\u001b[0m\u001b[0mstr\u001b[0m\u001b[1;33m,\u001b[0m \u001b[0mcolumns\u001b[0m\u001b[1;33m=\u001b[0m\u001b[1;33m{\u001b[0m\u001b[1;34m\"4. close\"\u001b[0m\u001b[1;33m:\u001b[0m\u001b[0mforex\u001b[0m \u001b[1;33m+\u001b[0m \u001b[1;34m\"close\"\u001b[0m\u001b[1;33m}\u001b[0m\u001b[1;33m)\u001b[0m\u001b[1;33m\u001b[0m\u001b[1;33m\u001b[0m\u001b[0m\n",
      "\u001b[1;32m~\\AppData\\Local\\conda\\conda\\envs\\python36_gpu\\lib\\site-packages\\alpha_vantage\\alphavantage.py\u001b[0m in \u001b[0;36m_format_wrapper\u001b[1;34m(self, *args, **kwargs)\u001b[0m\n\u001b[0;32m    176\u001b[0m             \u001b[1;32mif\u001b[0m \u001b[1;34m'json'\u001b[0m \u001b[1;32min\u001b[0m \u001b[0mself\u001b[0m\u001b[1;33m.\u001b[0m\u001b[0moutput_format\u001b[0m\u001b[1;33m.\u001b[0m\u001b[0mlower\u001b[0m\u001b[1;33m(\u001b[0m\u001b[1;33m)\u001b[0m \u001b[1;32mor\u001b[0m \u001b[1;34m'pandas'\u001b[0m\u001b[0;31m \u001b[0m\u001b[0;31m\\\u001b[0m\u001b[1;33m\u001b[0m\u001b[1;33m\u001b[0m\u001b[0m\n\u001b[0;32m    177\u001b[0m                     \u001b[1;32min\u001b[0m \u001b[0mself\u001b[0m\u001b[1;33m.\u001b[0m\u001b[0moutput_format\u001b[0m\u001b[1;33m.\u001b[0m\u001b[0mlower\u001b[0m\u001b[1;33m(\u001b[0m\u001b[1;33m)\u001b[0m\u001b[1;33m:\u001b[0m\u001b[1;33m\u001b[0m\u001b[1;33m\u001b[0m\u001b[0m\n\u001b[1;32m--> 178\u001b[1;33m                 \u001b[0mdata\u001b[0m \u001b[1;33m=\u001b[0m \u001b[0mcall_response\u001b[0m\u001b[1;33m[\u001b[0m\u001b[0mdata_key\u001b[0m\u001b[1;33m]\u001b[0m\u001b[1;33m\u001b[0m\u001b[1;33m\u001b[0m\u001b[0m\n\u001b[0m\u001b[0;32m    179\u001b[0m                 \u001b[1;32mif\u001b[0m \u001b[0mmeta_data_key\u001b[0m \u001b[1;32mis\u001b[0m \u001b[1;32mnot\u001b[0m \u001b[1;32mNone\u001b[0m\u001b[1;33m:\u001b[0m\u001b[1;33m\u001b[0m\u001b[1;33m\u001b[0m\u001b[0m\n\u001b[0;32m    180\u001b[0m                     \u001b[0mmeta_data\u001b[0m \u001b[1;33m=\u001b[0m \u001b[0mcall_response\u001b[0m\u001b[1;33m[\u001b[0m\u001b[0mmeta_data_key\u001b[0m\u001b[1;33m]\u001b[0m\u001b[1;33m\u001b[0m\u001b[1;33m\u001b[0m\u001b[0m\n",
      "\u001b[1;31mKeyError\u001b[0m: 'Time Series FX (Daily)'"
     ]
    }
   ],
   "source": [
    "for forex in list_of_forex:\n",
    "    fx = ForeignExchange(key='BHY9P0T4QTOYVHPN',output_format='pandas')\n",
    "    dataa, meta_data = fx.get_currency_exchange_daily(from_symbol='USD', to_symbol= forex, outputsize='full')\n",
    "    dataa = dataa.drop([\"1. open\", \"2. high\", \"3. low\"], axis=1)\n",
    "    dataa = dataa.rename(index=str, columns={\"4. close\":forex + \"close\"})\n",
    "    forex = forex +'.csv'\n",
    "    dataa.to_csv(forex)"
   ]
  },
  {
   "cell_type": "code",
   "execution_count": 5,
   "metadata": {
    "scrolled": true
   },
   "outputs": [
    {
     "name": "stdout",
     "output_type": "stream",
     "text": [
      "            googlclose  googlvolume\n",
      "date                               \n",
      "2004-08-19     50.3228   44659000.0\n",
      "2004-08-20     54.3227   22834300.0\n",
      "2004-08-23     54.8694   18256100.0\n",
      "2004-08-24     52.5974   15247300.0\n",
      "2004-08-25     53.1641    9188600.0\n",
      "2004-08-26     54.1221    7094800.0\n",
      "2004-08-27     53.2393    6211700.0\n",
      "2004-08-30     51.1629    5196700.0\n",
      "2004-08-31     51.3435    4917800.0\n",
      "2004-09-01     50.2802    9138200.0\n",
      "2004-09-02     50.9122   15118600.0\n",
      "2004-09-03     50.1598    5152400.0\n",
      "2004-09-07     50.9473    5847500.0\n",
      "2004-09-08     51.3084    4985600.0\n",
      "2004-09-09     51.3134    4061700.0\n",
      "2004-09-10     52.8281    8698800.0\n",
      "2004-09-13     53.9164    7844100.0\n",
      "2004-09-14     55.9176   10828900.0\n",
      "2004-09-15     56.1734   10713000.0\n",
      "2004-09-16     57.1615    9266300.0\n",
      "2004-09-17     58.9269    9472500.0\n",
      "2004-09-20     59.8648   10628700.0\n",
      "2004-09-21     59.1024    7228700.0\n",
      "2004-09-22     59.3733    7581200.0\n",
      "2004-09-23     60.5971    8535600.0\n",
      "2004-09-24     60.1005    9123400.0\n",
      "2004-09-27     59.3131    7066100.0\n",
      "2004-09-28     63.6264   16929000.0\n",
      "2004-09-29     65.7429   30516400.0\n",
      "2004-09-30     65.0007   13758000.0\n",
      "...                ...          ...\n",
      "2019-06-04   1054.4900    3025564.0\n",
      "2019-06-05   1044.6400    2349436.0\n",
      "2019-06-06   1047.7600    1451026.0\n",
      "2019-06-07   1068.3700    2191357.0\n",
      "2019-06-10   1082.7600    1425464.0\n",
      "2019-06-11   1081.0400    1675817.0\n",
      "2019-06-12   1079.1000    1183650.0\n",
      "2019-06-13   1091.0100    1040661.0\n",
      "2019-06-14   1086.3000    1229304.0\n",
      "2019-06-17   1093.8900     988491.0\n",
      "2019-06-18   1105.2400    1726312.0\n",
      "2019-06-19   1104.5100    1336015.0\n",
      "2019-06-20   1113.2000    1200908.0\n",
      "2019-06-21   1125.3700    2538872.0\n",
      "2019-06-24   1116.7000    1211893.0\n",
      "2019-06-25   1087.5800    1582217.0\n",
      "2019-06-26   1080.3200    1734873.0\n",
      "2019-06-27   1076.6300    1203914.0\n",
      "2019-06-28   1082.8000    1683568.0\n",
      "2019-07-01   1100.0000    1464449.0\n",
      "2019-07-02   1112.6000    1031919.0\n",
      "2019-07-03   1122.9900    1007718.0\n",
      "2019-07-05   1132.6600    1489678.0\n",
      "2019-07-08   1116.7900    1494371.0\n",
      "2019-07-09   1124.2900    1473622.0\n",
      "2019-07-10   1140.9100    1535546.0\n",
      "2019-07-11   1144.0800    1300529.0\n",
      "2019-07-12   1145.3400    1093933.0\n",
      "2019-07-15   1150.5100    1058030.0\n",
      "2019-07-16   1149.3275      92862.0\n",
      "\n",
      "[3752 rows x 2 columns]\n"
     ]
    }
   ],
   "source": [
    "pprint(data)"
   ]
  },
  {
   "cell_type": "code",
   "execution_count": null,
   "metadata": {
    "scrolled": false
   },
   "outputs": [],
   "source": []
  },
  {
   "cell_type": "code",
   "execution_count": null,
   "metadata": {},
   "outputs": [],
   "source": []
  },
  {
   "cell_type": "code",
   "execution_count": null,
   "metadata": {
    "scrolled": true
   },
   "outputs": [],
   "source": []
  },
  {
   "cell_type": "code",
   "execution_count": null,
   "metadata": {},
   "outputs": [],
   "source": []
  },
  {
   "cell_type": "code",
   "execution_count": null,
   "metadata": {},
   "outputs": [],
   "source": []
  }
 ],
 "metadata": {
  "kernelspec": {
   "display_name": "Python 3",
   "language": "python",
   "name": "python3"
  },
  "language_info": {
   "codemirror_mode": {
    "name": "ipython",
    "version": 3
   },
   "file_extension": ".py",
   "mimetype": "text/x-python",
   "name": "python",
   "nbconvert_exporter": "python",
   "pygments_lexer": "ipython3",
   "version": "3.6.7"
  }
 },
 "nbformat": 4,
 "nbformat_minor": 2
}
